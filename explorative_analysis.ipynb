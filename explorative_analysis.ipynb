{
 "cells": [
  {
   "cell_type": "code",
   "execution_count": null,
   "metadata": {},
   "outputs": [],
   "source": [
    "import networkx as nx\n",
    "import random\n",
    "import numpy as np\n",
    "import matplotlib.pyplot as plt\n",
    "\n",
    "# Load the Email-Eu-Core dataset\n",
    "G = nx.read_edgelist(\"/home/student/Desktop/222it029/Projects/WSC/WSC Project/Dataset/email-EuAll/Email-EuAll.txt\")\n",
    "#diameter = nx.diameter(G)\n",
    "#print(diameter)\n",
    "\n",
    "fig, ax = plt.subplots(figsize=(10,10))\n",
    "\n",
    "# Draw the graph using a spring layout algorithm\n",
    "pos = nx.spring_layout(G, k=0.1)\n",
    "nx.draw(G, pos, node_size=10, alpha=0.6, node_color='b', edge_color='gray', ax=ax)\n",
    "\n",
    "# Show the plot\n",
    "plt.show()"
   ]
  },
  {
   "cell_type": "code",
   "execution_count": null,
   "metadata": {},
   "outputs": [],
   "source": []
  }
 ],
 "metadata": {
  "kernelspec": {
   "display_name": "Python 3.10.9 64-bit ('base': conda)",
   "metadata": {
    "interpreter": {
     "hash": "85f619018d9bc2afe4b42a9e55ac36a34cbf4595f2cb5e75baf5af2b2cbc0c1c"
    }
   },
   "name": "python3"
  },
  "language_info": {
   "codemirror_mode": {
    "name": "ipython",
    "version": 3
   },
   "file_extension": ".py",
   "mimetype": "text/x-python",
   "name": "python",
   "nbconvert_exporter": "python",
   "pygments_lexer": "ipython3",
   "version": "3.10.9-final"
  },
  "orig_nbformat": 2
 },
 "nbformat": 4,
 "nbformat_minor": 2
}
